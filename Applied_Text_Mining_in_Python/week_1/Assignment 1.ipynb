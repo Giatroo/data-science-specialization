{
 "cells": [
  {
   "cell_type": "markdown",
   "metadata": {},
   "source": [
    "---\n",
    "\n",
    "_You are currently looking at **version 1.1** of this notebook. To download notebooks and datafiles, as well as get help on Jupyter notebooks in the Coursera platform, visit the [Jupyter Notebook FAQ](https://www.coursera.org/learn/python-text-mining/resources/d9pwm) course resource._\n",
    "\n",
    "---"
   ]
  },
  {
   "cell_type": "markdown",
   "metadata": {},
   "source": [
    "# Assignment 1\n",
    "\n",
    "In this assignment, you'll be working with messy medical data and using regex to extract relevant infromation from the data. \n",
    "\n",
    "Each line of the `dates.txt` file corresponds to a medical note. Each note has a date that needs to be extracted, but each date is encoded in one of many formats.\n",
    "\n",
    "The goal of this assignment is to correctly identify all of the different date variants encoded in this dataset and to properly normalize and sort the dates. \n",
    "\n",
    "Here is a list of some of the variants you might encounter in this dataset:\n",
    "* 04/20/2009; 04/20/09; 4/20/09; 4/3/09\n",
    "* Mar-20-2009; Mar 20, 2009; March 20, 2009;  Mar. 20, 2009; Mar 20 2009;\n",
    "* 20 Mar 2009; 20 March 2009; 20 Mar. 2009; 20 March, 2009\n",
    "* Mar 20th, 2009; Mar 21st, 2009; Mar 22nd, 2009\n",
    "* Feb 2009; Sep 2009; Oct 2010\n",
    "* 6/2008; 12/2009\n",
    "* 2009; 2010\n",
    "\n",
    "Once you have extracted these date patterns from the text, the next step is to sort them in ascending chronological order accoring to the following rules:\n",
    "* Assume all dates in xx/xx/xx format are mm/dd/yy\n",
    "* Assume all dates where year is encoded in only two digits are years from the 1900's (e.g. 1/5/89 is January 5th, 1989)\n",
    "* If the day is missing (e.g. 9/2009), assume it is the first day of the month (e.g. September 1, 2009).\n",
    "* If the month is missing (e.g. 2010), assume it is the first of January of that year (e.g. January 1, 2010).\n",
    "* Watch out for potential typos as this is a raw, real-life derived dataset.\n",
    "\n",
    "With these rules in mind, find the correct date in each note and return a pandas Series in chronological order of the original Series' indices.\n",
    "\n",
    "For example if the original series was this:\n",
    "\n",
    "    0    1999\n",
    "    1    2010\n",
    "    2    1978\n",
    "    3    2015\n",
    "    4    1985\n",
    "\n",
    "Your function should return this:\n",
    "\n",
    "    0    2\n",
    "    1    4\n",
    "    2    0\n",
    "    3    1\n",
    "    4    3\n",
    "\n",
    "Your score will be calculated using [Kendall's tau](https://en.wikipedia.org/wiki/Kendall_rank_correlation_coefficient), a correlation measure for ordinal data.\n",
    "\n",
    "*This function should return a Series of length 500 and dtype int.*"
   ]
  },
  {
   "cell_type": "code",
   "execution_count": 1,
   "metadata": {},
   "outputs": [
    {
     "data": {
      "text/plain": [
       "0         03/25/93 Total time of visit (in minutes):\\n\n",
       "1                       6/18/85 Primary Care Doctor:\\n\n",
       "2    sshe plans to move as of 7/8/71 In-Home Servic...\n",
       "3                7 on 9/27/75 Audit C Score Current:\\n\n",
       "4    2/6/96 sleep studyPain Treatment Pain Level (N...\n",
       "5                    .Per 7/06/79 Movement D/O note:\\n\n",
       "6    4, 5/18/78 Patient's thoughts about current su...\n",
       "7    10/24/89 CPT Code: 90801 - Psychiatric Diagnos...\n",
       "8                         3/7/86 SOS-10 Total Score:\\n\n",
       "9             (4/10/71)Score-1Audit C Score Current:\\n\n",
       "dtype: object"
      ]
     },
     "execution_count": 1,
     "metadata": {},
     "output_type": "execute_result"
    }
   ],
   "source": [
    "import pandas as pd\n",
    "\n",
    "doc = []\n",
    "with open('dates.txt') as file:\n",
    "    for line in file:\n",
    "        doc.append(line)\n",
    "\n",
    "df = pd.Series(doc)\n",
    "df.head(10)"
   ]
  },
  {
   "cell_type": "code",
   "execution_count": 2,
   "metadata": {},
   "outputs": [],
   "source": [
    "import re\n",
    "\n",
    "pattern = re.compile(r'''(\n",
    "\n",
    "(?: # The day can be he first thing to apper\n",
    "    \\d{1,2}                # It can have one or two digits\n",
    "    (?:st|nd|rd|th)?       # After the digits, we can have a complement\n",
    "    [-.,/\\ ]+              # After the day, we might have many different kinds of separators\n",
    ")?\n",
    "\n",
    "(?: # The month can be appers before the day or after it\n",
    "    (?: # There are two kinds of months signatures: the month's name or using digits\n",
    "        # Here, we list all the possible months and add a \\w* to capture their shortend or longer version\n",
    "        (?:(?:Jan|Feb|Mar|Apr|May|Jun|Jul|Aug|Sep|Oct|Nov|Dec)\\w*) |\n",
    "        # If the month is in digits, it can have one or two digits\n",
    "        (?:\\d{1,2}) \n",
    "    )\n",
    "    [-.,/\\ ]+             # After the month, we might have many differnt kinds of separators\n",
    ")?\n",
    "\n",
    "(?: # The day can also appers before the month \n",
    "    \\d{1,2}                # It can have one or two digits\n",
    "    (?:st|nd|rd|th)?       # After the digits, we can have a complement\n",
    "    [-.,/\\ ]+              # After the day, we might have many different kinds of separators\n",
    ")?\n",
    "\n",
    "# Finally, the year will always apper at the end\n",
    "\\d{2,4}   # It can have two or four digits\n",
    "    \n",
    ")''', flags = re.VERBOSE|re.IGNORECASE)\n",
    "\n",
    "\n",
    "test_string = '''\n",
    "04/20/2009; 04/20/09; 4/20/09; 4/3/09\n",
    "Mar-20-2009; Mar 20, 2009; March 20, 2009; Mar. 20, 2009; Mar 20 2009;\n",
    "20 Mar 2009; 20 March 2009; 20 Mar. 2009; 20 March, 2009\n",
    "Mar 20th, 2009; Mar 21st, 2009; Mar 22nd, 2009\n",
    "Feb 2009; Sep 2009; Oct 2010\n",
    "6/2008; 12/2009\n",
    "2009; 2010\n",
    "'''"
   ]
  },
  {
   "cell_type": "code",
   "execution_count": 3,
   "metadata": {},
   "outputs": [
    {
     "data": {
      "text/plain": [
       "['04/20/2009',\n",
       " '04/20/09',\n",
       " '4/20/09',\n",
       " '4/3/09',\n",
       " 'Mar-20-2009',\n",
       " 'Mar 20, 2009',\n",
       " 'March 20, 2009',\n",
       " 'Mar. 20, 2009',\n",
       " 'Mar 20 2009',\n",
       " '20 Mar 2009',\n",
       " '20 March 2009',\n",
       " '20 Mar. 2009',\n",
       " '20 March, 2009',\n",
       " 'Mar 20th, 2009',\n",
       " 'Mar 21st, 2009',\n",
       " 'Mar 22nd, 2009',\n",
       " 'Feb 2009',\n",
       " 'Sep 2009',\n",
       " 'Oct 2010',\n",
       " '6/2008',\n",
       " '12/2009',\n",
       " '2009',\n",
       " '2010']"
      ]
     },
     "execution_count": 3,
     "metadata": {},
     "output_type": "execute_result"
    }
   ],
   "source": [
    "re.findall(pattern, test_string)"
   ]
  },
  {
   "cell_type": "code",
   "execution_count": 4,
   "metadata": {},
   "outputs": [],
   "source": [
    "df[6] = df[6].replace('4, ', '')\n",
    "df[18] = df[18].replace('4, ', '')\n",
    "df[99] = df[99].replace('011', '11')\n",
    "\n",
    "dates = df.str.findall(pattern)\n",
    "\n",
    "dates[19] = [dates[19][1]]\n",
    "dates[69] = [dates[69][1]]\n",
    "dates[72] = [dates[72][1]]\n",
    "dates[80] = [dates[80][1]]\n",
    "dates[87] = [dates[87][3]]\n",
    "dates[107] = [dates[107][2]]\n",
    "dates[125] = [dates[125][1]]\n",
    "dates[138] = [dates[138][1]]\n",
    "dates[170] = [dates[170][1]]\n",
    "dates[177] = [dates[177][1]]\n",
    "dates[193] = [dates[193][1]]\n",
    "dates[214] = [dates[214][3]]\n",
    "dates[223] = [dates[223][1]]\n",
    "dates[228] = [dates[228][1]]\n",
    "dates[230] = [dates[230][1]]\n",
    "dates[231] = [dates[231][1]]\n",
    "dates[240] = [dates[240][1]]\n",
    "dates[244] = [dates[244][1]]\n",
    "dates[248] = [dates[248][1]]\n",
    "dates[254] = [dates[254][1]]\n",
    "dates[265] = [dates[265][-2]]\n",
    "dates[271] = [dates[271][-3]]\n",
    "dates[272] = [dates[272][-1]]\n",
    "dates[273] = [dates[273][1]]\n",
    "dates[275] = [dates[275][1]]\n",
    "dates[282] = [dates[282][1]]\n",
    "dates[297] = [dates[297][-1]]\n",
    "dates[303] = [dates[303][-1]]\n",
    "dates[309] = [dates[309][-1]]\n",
    "dates[311] = [dates[311][1]]\n",
    "dates[312] = [dates[312][-1]]\n",
    "dates[317] = [dates[317][-1]]\n",
    "dates[320] = [dates[320][-1]]\n",
    "dates[326] = [dates[326][1]]\n",
    "dates[330] = [dates[330][1]]\n",
    "dates[331] = [dates[331][-2]]\n",
    "dates[336] = [dates[336][1]]\n",
    "dates[339] = [dates[339][-1]]\n",
    "dates[344] = [dates[344][1]]\n",
    "dates[351] = [dates[351][1]]\n",
    "dates[354] = [dates[354][0].replace('septum, ', '')]\n",
    "dates[371] = [dates[371][1]]\n",
    "dates[377] = [dates[377][1]]\n",
    "dates[378] = [dates[378][1]]\n",
    "dates[392] = [dates[392][0].replace('0.67 ', '')]\n",
    "dates[431] = [dates[431][1]]\n",
    "dates[432] = [dates[432][1]]\n",
    "dates[443] = [dates[443][1]]\n",
    "dates[452] = [dates[452][1]]\n",
    "dates[461] = [dates[461][0].replace('16, ', '')]\n",
    "dates[465] = [dates[465][0].replace('19, ', '')]\n",
    "dates[463] = [dates[463][1]]\n",
    "dates[477] = [dates[477][1]]\n",
    "dates[489] = [dates[489][1]]\n",
    "dates[490] = [dates[490][1]]"
   ]
  },
  {
   "cell_type": "code",
   "execution_count": 5,
   "metadata": {},
   "outputs": [
    {
     "data": {
      "text/plain": [
       "True"
      ]
     },
     "execution_count": 5,
     "metadata": {},
     "output_type": "execute_result"
    }
   ],
   "source": [
    "all(list(dates.apply(lambda x : bool(x))))"
   ]
  },
  {
   "cell_type": "code",
   "execution_count": 6,
   "metadata": {},
   "outputs": [
    {
     "data": {
      "text/plain": [
       "0    03/25/93\n",
       "1     6/18/85\n",
       "2      7/8/71\n",
       "3     9/27/75\n",
       "4      2/6/96\n",
       "5     7/06/79\n",
       "6     5/18/78\n",
       "7    10/24/89\n",
       "8      3/7/86\n",
       "9     4/10/71\n",
       "dtype: object"
      ]
     },
     "execution_count": 6,
     "metadata": {},
     "output_type": "execute_result"
    }
   ],
   "source": [
    "dates = dates.apply(lambda x :x[0])\n",
    "dates[:10]"
   ]
  },
  {
   "cell_type": "code",
   "execution_count": 7,
   "metadata": {
    "scrolled": true
   },
   "outputs": [
    {
     "data": {
      "text/plain": [
       "0      1993-03-25 00:00:00\n",
       "1      1985-06-18 00:00:00\n",
       "2      1971-07-08 00:00:00\n",
       "3      1975-09-27 00:00:00\n",
       "4      1996-02-06 00:00:00\n",
       "              ...         \n",
       "495    1979-01-01 00:00:00\n",
       "496    2006-01-01 00:00:00\n",
       "497    2008-01-01 00:00:00\n",
       "498    2005-01-01 00:00:00\n",
       "499    1980-01-01 00:00:00\n",
       "Length: 500, dtype: object"
      ]
     },
     "execution_count": 7,
     "metadata": {},
     "output_type": "execute_result"
    }
   ],
   "source": [
    "def parser(string):\n",
    "    from datetime import datetime\n",
    "    if len(string) == 8:\n",
    "        return pd.to_datetime(string, format='%b %Y')\n",
    "    return pd.to_datetime(datetime.strptime(string, '%B %Y'))\n",
    "\n",
    "dates[:298] = dates[:298].apply(pd.to_datetime)\n",
    "dates[343:] = dates[343:].apply(pd.to_datetime)\n",
    "\n",
    "dates[298:343] = dates[298:343].str.replace(',', '')\n",
    "\n",
    "\n",
    "dates[298] = dates[298].replace('Janaury', 'January')\n",
    "dates[313] = dates[331].replace('December', 'December')\n",
    "dates[331] = dates[331].replace('December', 'December')\n",
    "dates[298:343] = dates[298:343].apply(parser)\n",
    "\n",
    "dates"
   ]
  },
  {
   "cell_type": "code",
   "execution_count": 8,
   "metadata": {},
   "outputs": [],
   "source": [
    "def date_sorter():\n",
    "    return dates.sort_values().reset_index()['index']"
   ]
  },
  {
   "cell_type": "code",
   "execution_count": 9,
   "metadata": {},
   "outputs": [
    {
     "data": {
      "text/plain": [
       "0        9\n",
       "1       84\n",
       "2        2\n",
       "3       53\n",
       "4       28\n",
       "      ... \n",
       "495    427\n",
       "496    141\n",
       "497    186\n",
       "498    161\n",
       "499    413\n",
       "Name: index, Length: 500, dtype: int64"
      ]
     },
     "execution_count": 9,
     "metadata": {},
     "output_type": "execute_result"
    }
   ],
   "source": [
    "date_sorter()"
   ]
  }
 ],
 "metadata": {
  "coursera": {
   "course_slug": "python-text-mining",
   "graded_item_id": "LvcWI",
   "launcher_item_id": "krne9",
   "part_id": "Mkp1I"
  },
  "kernelspec": {
   "display_name": "Python 3",
   "language": "python",
   "name": "python3"
  },
  "language_info": {
   "codemirror_mode": {
    "name": "ipython",
    "version": 3
   },
   "file_extension": ".py",
   "mimetype": "text/x-python",
   "name": "python",
   "nbconvert_exporter": "python",
   "pygments_lexer": "ipython3",
   "version": "3.8.5"
  }
 },
 "nbformat": 4,
 "nbformat_minor": 2
}
