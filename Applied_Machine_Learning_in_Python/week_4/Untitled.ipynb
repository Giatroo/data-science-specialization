{
 "cells": [
  {
   "cell_type": "code",
   "execution_count": 2,
   "id": "coordinate-alabama",
   "metadata": {},
   "outputs": [
    {
     "name": "stdout",
     "output_type": "stream",
     "text": [
      "Fitting 5 folds for each of 500 candidates, totalling 2500 fits\n"
     ]
    },
    {
     "name": "stderr",
     "output_type": "stream",
     "text": [
      "[Parallel(n_jobs=-1)]: Using backend LokyBackend with 4 concurrent workers.\n",
      "[Parallel(n_jobs=-1)]: Done  33 tasks      | elapsed:   20.6s\n",
      "[Parallel(n_jobs=-1)]: Done 154 tasks      | elapsed:  2.0min\n",
      "[Parallel(n_jobs=-1)]: Done 357 tasks      | elapsed:  5.0min\n",
      "[Parallel(n_jobs=-1)]: Done 640 tasks      | elapsed:  9.0min\n",
      "[Parallel(n_jobs=-1)]: Done 1005 tasks      | elapsed: 14.3min\n",
      "[Parallel(n_jobs=-1)]: Done 1450 tasks      | elapsed: 20.7min\n",
      "[Parallel(n_jobs=-1)]: Done 1977 tasks      | elapsed: 27.8min\n",
      "[Parallel(n_jobs=-1)]: Done 2500 out of 2500 | elapsed: 35.5min finished\n"
     ]
    },
    {
     "data": {
      "text/plain": [
       "GradientBoostingClassifier(learning_rate=0.49417133613238334, n_estimators=31)"
      ]
     },
     "execution_count": 2,
     "metadata": {},
     "output_type": "execute_result"
    }
   ],
   "source": [
    "import pandas as pd\n",
    "import numpy as np\n",
    "\n",
    "from sklearn.model_selection import (train_test_split, GridSearchCV)\n",
    "from sklearn.ensemble import GradientBoostingClassifier\n",
    "\n",
    "columns = ['ticket_id', 'city', 'state', 'violation_code', 'violation_description', \n",
    "          'disposition', 'admin_fee', 'state_fee', 'late_fee', 'discount_amount', 'clean_up_cost',\n",
    "          'judgment_amount', 'payment_amount', 'balance_due', 'payment_date', 'payment_status',\n",
    "          'collection_status', 'grafitti_status', 'compliance_detail', 'compliance']\n",
    "dtypes = ['int', 'object', 'object', 'object', 'object', 'object', 'float64', 'float64', 'float64',\n",
    "         'float64', 'float64', 'float64', 'float64', 'float64', 'object', 'object', 'object',\n",
    "         'object', 'object', 'float64']\n",
    "\n",
    "\n",
    "\n",
    "df_train = pd.read_csv('./train.csv', index_col ='ticket_id', usecols=columns, dtype=dict(zip(columns, dtypes)))\n",
    "df_train = df_train[~np.isnan(df_train['compliance'])]\n",
    "\n",
    "\n",
    "target = 'compliance'\n",
    "features = ['admin_fee', 'state_fee', 'late_fee', 'discount_amount',\n",
    "            'clean_up_cost', 'judgment_amount', 'state']\n",
    "\n",
    "df_train = df_train[features+[target]]\n",
    "df_train = pd.get_dummies(df_train, columns=['state'])\n",
    "\n",
    "y = df_train[target]\n",
    "X = df_train.drop(target, axis='columns')\n",
    "\n",
    "X_train, X_test, y_train, y_test = train_test_split(X, y)\n",
    "\n",
    "gb = GradientBoostingClassifier()\n",
    "\n",
    "param = {\n",
    "    'learning_rate' : np.logspace(-3, 1),\n",
    "    'loss' : ['deviance', 'exponential'],\n",
    "    'n_estimators' : list(map(int, np.geomspace(1, 100, 5)))\n",
    "}\n",
    "\n",
    "gs = GridSearchCV(gb, param_grid=param, scoring='roc_auc', n_jobs=-1, verbose=2)\n",
    "gs.fit(X_train, y_train)\n",
    "gs.best_estimator_"
   ]
  },
  {
   "cell_type": "code",
   "execution_count": 3,
   "id": "unexpected-border",
   "metadata": {},
   "outputs": [
    {
     "data": {
      "text/plain": [
       "0.7608303881966041"
      ]
     },
     "execution_count": 3,
     "metadata": {},
     "output_type": "execute_result"
    }
   ],
   "source": [
    "gs.best_score_"
   ]
  },
  {
   "cell_type": "code",
   "execution_count": 5,
   "id": "lasting-illustration",
   "metadata": {},
   "outputs": [
    {
     "data": {
      "text/plain": [
       "0.5565947172819978"
      ]
     },
     "execution_count": 5,
     "metadata": {},
     "output_type": "execute_result"
    }
   ],
   "source": [
    "from sklearn.metrics import roc_auc_score\n",
    "gb = GradientBoostingClassifier(learning_rate=0.49417133613238334, n_estimators=31).fit(X_train, y_train)\n",
    "roc_auc_score(y_test, gb.predict(X_test))"
   ]
  },
  {
   "cell_type": "code",
   "execution_count": null,
   "id": "bigger-group",
   "metadata": {},
   "outputs": [],
   "source": []
  }
 ],
 "metadata": {
  "kernelspec": {
   "display_name": "Python 3",
   "language": "python",
   "name": "python3"
  },
  "language_info": {
   "codemirror_mode": {
    "name": "ipython",
    "version": 3
   },
   "file_extension": ".py",
   "mimetype": "text/x-python",
   "name": "python",
   "nbconvert_exporter": "python",
   "pygments_lexer": "ipython3",
   "version": "3.8.5"
  }
 },
 "nbformat": 4,
 "nbformat_minor": 5
}
