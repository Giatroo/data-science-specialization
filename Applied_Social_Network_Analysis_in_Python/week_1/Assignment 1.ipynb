{
 "cells": [
  {
   "cell_type": "markdown",
   "metadata": {},
   "source": [
    "---\n",
    "\n",
    "_You are currently looking at **version 1.1** of this notebook. To download notebooks and datafiles, as well as get help on Jupyter notebooks in the Coursera platform, visit the [Jupyter Notebook FAQ](https://www.coursera.org/learn/python-social-network-analysis/resources/yPcBs) course resource._\n",
    "\n",
    "---"
   ]
  },
  {
   "cell_type": "markdown",
   "metadata": {},
   "source": [
    "# Assignment 1 - Creating and Manipulating Graphs\n",
    "\n",
    "Eight employees at a small company were asked to choose 3 movies that they would most enjoy watching for the upcoming company movie night. These choices are stored in the file `Employee_Movie_Choices.txt`.\n",
    "\n",
    "A second file, `Employee_Relationships.txt`, has data on the relationships between different coworkers. \n",
    "\n",
    "The relationship score has value of `-100` (Enemies) to `+100` (Best Friends). A value of zero means the two employees haven't interacted or are indifferent.\n",
    "\n",
    "Both files are tab delimited."
   ]
  },
  {
   "cell_type": "code",
   "execution_count": 1,
   "metadata": {},
   "outputs": [],
   "source": [
    "import networkx as nx\n",
    "import pandas as pd\n",
    "import numpy as np\n",
    "from networkx.algorithms import bipartite\n",
    "\n",
    "\n",
    "# This is the set of employees\n",
    "employees = set(['Pablo',\n",
    "                 'Lee',\n",
    "                 'Georgia',\n",
    "                 'Vincent',\n",
    "                 'Andy',\n",
    "                 'Frida',\n",
    "                 'Joan',\n",
    "                 'Claude'])\n",
    "\n",
    "# This is the set of movies\n",
    "movies = set(['The Shawshank Redemption',\n",
    "              'Forrest Gump',\n",
    "              'The Matrix',\n",
    "              'Anaconda',\n",
    "              'The Social Network',\n",
    "              'The Godfather',\n",
    "              'Monty Python and the Holy Grail',\n",
    "              'Snakes on a Plane',\n",
    "              'Kung Fu Panda',\n",
    "              'The Dark Knight',\n",
    "              'Mean Girls'])\n",
    "\n",
    "\n",
    "# you can use the following function to plot graphs\n",
    "# make sure to comment it out before submitting to the autograder\n",
    "def plot_graph(G, weight_name=None):\n",
    "    '''\n",
    "    G: a networkx G\n",
    "    weight_name: name of the attribute for plotting edge weights (if G is weighted)\n",
    "    '''\n",
    "    %matplotlib notebook\n",
    "    import matplotlib.pyplot as plt\n",
    "    \n",
    "    plt.figure()\n",
    "    pos = nx.spring_layout(G)\n",
    "    edges = G.edges()\n",
    "    weights = None\n",
    "    \n",
    "    if weight_name:\n",
    "        weights = [int(G[u][v][weight_name]) for u,v in edges]\n",
    "        labels = nx.get_edge_attributes(G,weight_name)\n",
    "        nx.draw_networkx_edge_labels(G,pos,edge_labels=labels)\n",
    "        nx.draw_networkx(G, pos, edges=edges, width=weights);\n",
    "    else:\n",
    "        nx.draw_networkx(G, pos, edges=edges);"
   ]
  },
  {
   "cell_type": "markdown",
   "metadata": {},
   "source": [
    "### Question 1\n",
    "\n",
    "Using NetworkX, load in the bipartite graph from `Employee_Movie_Choices.txt` and return that graph.\n",
    "\n",
    "*This function should return a networkx graph with 19 nodes and 24 edges*"
   ]
  },
  {
   "cell_type": "code",
   "execution_count": 2,
   "metadata": {},
   "outputs": [],
   "source": [
    "def answer_one():\n",
    "    G = nx.read_edgelist('Employee_Movie_Choices.txt', nodetype=str, delimiter='\\t')\n",
    "    return G\n",
    "#G = answer_one()\n",
    "#len(list(G.nodes())), len(list(G.edges()))"
   ]
  },
  {
   "cell_type": "code",
   "execution_count": 3,
   "metadata": {},
   "outputs": [
    {
     "name": "stdout",
     "output_type": "stream",
     "text": [
      "#Employee\tMovie\r\n",
      "Andy\tAnaconda\r\n",
      "Andy\tMean Girls\r\n",
      "Andy\tThe Matrix\r\n",
      "Claude\tAnaconda\r\n",
      "Claude\tMonty Python and the Holy Grail\r\n",
      "Claude\tSnakes on a Plane\r\n",
      "Frida\tThe Matrix\r\n",
      "Frida\tThe Shawshank Redemption\r\n",
      "Frida\tThe Social Network\r\n",
      "Georgia\tAnaconda\r\n",
      "Georgia\tMonty Python and the Holy Grail\r\n",
      "Georgia\tSnakes on a Plane\r\n",
      "Joan\tForrest Gump\r\n",
      "Joan\tKung Fu Panda\r\n",
      "Joan\tMean Girls\r\n",
      "Lee\tForrest Gump\r\n",
      "Lee\tKung Fu Panda\r\n",
      "Lee\tMean Girls\r\n",
      "Pablo\tThe Dark Knight\r\n",
      "Pablo\tThe Matrix\r\n",
      "Pablo\tThe Shawshank Redemption\r\n",
      "Vincent\tThe Godfather\r\n",
      "Vincent\tThe Shawshank Redemption\r\n",
      "Vincent\tThe Social Network\r\n"
     ]
    }
   ],
   "source": [
    "!cat Employee_Movie_Choices.txt"
   ]
  },
  {
   "cell_type": "markdown",
   "metadata": {},
   "source": [
    "### Question 2\n",
    "\n",
    "Using the graph from the previous question, add nodes attributes named `'type'` where movies have the value `'movie'` and employees have the value `'employee'` and return that graph.\n",
    "\n",
    "*This function should return a networkx graph with node attributes `{'type': 'movie'}` or `{'type': 'employee'}`*"
   ]
  },
  {
   "cell_type": "code",
   "execution_count": 4,
   "metadata": {},
   "outputs": [],
   "source": [
    "def answer_two():\n",
    "    G = answer_one()\n",
    "    for n in G.nodes():\n",
    "        if n in employees:\n",
    "            G.add_node(n, type='employee')\n",
    "        else:\n",
    "            G.add_node(n, type='movie')\n",
    "    return G"
   ]
  },
  {
   "cell_type": "markdown",
   "metadata": {
    "collapsed": true
   },
   "source": [
    "### Question 3\n",
    "\n",
    "Find a weighted projection of the graph from `answer_two` which tells us how many movies different pairs of employees have in common.\n",
    "\n",
    "*This function should return a weighted projected graph.*"
   ]
  },
  {
   "cell_type": "code",
   "execution_count": 5,
   "metadata": {},
   "outputs": [],
   "source": [
    "def answer_three():\n",
    "    return bipartite.weighted_projected_graph(answer_two(), employees)"
   ]
  },
  {
   "cell_type": "markdown",
   "metadata": {
    "collapsed": true
   },
   "source": [
    "### Question 4\n",
    "\n",
    "Suppose you'd like to find out if people that have a high relationship score also like the same types of movies.\n",
    "\n",
    "Find the Pearson correlation ( using `DataFrame.corr()` ) between employee relationship scores and the number of movies they have in common. If two employees have no movies in common it should be treated as a 0, not a missing value, and should be included in the correlation calculation.\n",
    "\n",
    "*This function should return a float.*"
   ]
  },
  {
   "cell_type": "code",
   "execution_count": 6,
   "metadata": {},
   "outputs": [],
   "source": [
    "def answer_four():\n",
    "    P = answer_three()\n",
    "    P.edges(data=True)\n",
    "\n",
    "    df = pd.read_csv('Employee_Relationships.txt', delimiter='\\t', header=None,\n",
    "                    names=['p1', 'p2', 'relation'], index_col=['p1', 'p2'])\n",
    "    df['movies_in_common'] = 0\n",
    "\n",
    "    for e in P.edges(data=True):\n",
    "        if (e[0], e[1]) in df.index:\n",
    "            df.loc[(e[0],e[1]), 'movies_in_common'] = e[2]['weight']\n",
    "        elif (e[1], e[0]) in df.index:\n",
    "            df.loc[(e[1],e[0]), 'movies_in_common'] = e[2]['weight']\n",
    "    return df.corr().loc['movies_in_common', 'relation']"
   ]
  },
  {
   "cell_type": "code",
   "execution_count": 7,
   "metadata": {},
   "outputs": [
    {
     "name": "stdout",
     "output_type": "stream",
     "text": [
      "Andy\tClaude\t0\r\n",
      "Andy\tFrida\t20\r\n",
      "Andy\tGeorgia\t-10\r\n",
      "Andy\tJoan\t30\r\n",
      "Andy\tLee\t-10\r\n",
      "Andy\tPablo\t-10\r\n",
      "Andy\tVincent\t20\r\n",
      "Claude\tFrida\t0\r\n",
      "Claude\tGeorgia\t90\r\n",
      "Claude\tJoan\t0\r\n",
      "Claude\tLee\t0\r\n",
      "Claude\tPablo\t10\r\n",
      "Claude\tVincent\t0\r\n",
      "Frida\tGeorgia\t0\r\n",
      "Frida\tJoan\t0\r\n",
      "Frida\tLee\t0\r\n",
      "Frida\tPablo\t50\r\n",
      "Frida\tVincent\t60\r\n",
      "Georgia\tJoan\t0\r\n",
      "Georgia\tLee\t10\r\n",
      "Georgia\tPablo\t0\r\n",
      "Georgia\tVincent\t0\r\n",
      "Joan\tLee\t70\r\n",
      "Joan\tPablo\t0\r\n",
      "Joan\tVincent\t10\r\n",
      "Lee\tPablo\t0\r\n",
      "Lee\tVincent\t0\r\n",
      "Pablo\tVincent\t-20\r\n"
     ]
    }
   ],
   "source": [
    "!cat Employee_Relationships.txt"
   ]
  }
 ],
 "metadata": {
  "coursera": {
   "course_slug": "python-social-network-analysis",
   "graded_item_id": "YNa9b",
   "launcher_item_id": "hvNc1",
   "part_id": "VbyiB"
  },
  "kernelspec": {
   "display_name": "Python 3",
   "language": "python",
   "name": "python3"
  },
  "language_info": {
   "codemirror_mode": {
    "name": "ipython",
    "version": 3
   },
   "file_extension": ".py",
   "mimetype": "text/x-python",
   "name": "python",
   "nbconvert_exporter": "python",
   "pygments_lexer": "ipython3",
   "version": "3.8.8"
  }
 },
 "nbformat": 4,
 "nbformat_minor": 2
}
